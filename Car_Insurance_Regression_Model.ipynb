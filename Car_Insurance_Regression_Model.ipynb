# Import required modules
import pandas as pd
import numpy as np
from statsmodels.formula.api import logit

df = pd.read_csv('car_insurance.csv')
with pd.option_context('display.max_columns', None, 'display.max_colwidth', None):  
    display(df.head()) 
print(df.head())

df.columns
print(df.isna().sum())
print(df.dtypes)
#Allocate feature and Target columns
features = [col for col in df.columns if col not in ['id','outcome']]
target = 'outcome'

print(features,target)
df['driving_experience'] = df['driving_experience'].astype("category")
df['driving_experience'] = df['driving_experience'].cat.codes
df['driving_experience'].head()
#handling the missing values 
from statsmodels.formula.api import logit
df['credit_score'] = df['credit_score'].fillna(df['credit_score'].mean())
df['annual_mileage'] = df['annual_mileage'].fillna(df['annual_mileage'].mean())

#Preparing the model

models = []
model_dict = {} 

for col in features:
    model = logit(f"outcome ~ {col}", data=df).fit()
    models.append(model)
    model_dict[col] = model


accuracies = []

for i in range(len(models)):
    conf_matrix = models[i].pred_table()
    TN = conf_matrix[0,0]
    TP = conf_matrix[1,1]
    FN = conf_matrix[1,0]
    FP = conf_matrix[0,1]


# Calculate and print the accuracy
    accuracy = (TN+TP)/(TN+TP+FN+FP)
    accuracies.append(accuracy)

best_index = accuracies.index(max(accuracies))
best_feature  = features[best_index]
best_accuracy = accuracies[best_index]

best_feature_df = pd.DataFrame({"best_feature":[best_feature],"best_accuracy":[best_accuracy]})

print(best_feature_df)

